{
 "cells": [
  {
   "cell_type": "markdown",
   "metadata": {},
   "source": [
    "# (VAD) Velocity Azimuth Display\n",
    "\n",
    "Argonne National Laboratory"
   ]
  },
  {
   "cell_type": "code",
   "execution_count": 1,
   "metadata": {
    "scrolled": true
   },
   "outputs": [
    {
     "name": "stdout",
     "output_type": "stream",
     "text": [
      "\n",
      "## You are using the Python ARM Radar Toolkit (Py-ART), an open source\n",
      "## library for working with weather radar data. Py-ART is partly\n",
      "## supported by the U.S. Department of Energy as part of the Atmospheric\n",
      "## Radiation Measurement (ARM) Climate Research Facility, an Office of\n",
      "## Science user facility.\n",
      "##\n",
      "## If you use this software to prepare a publication, please cite:\n",
      "##\n",
      "##     JJ Helmus and SM Collis, JORS 2016, doi: 10.5334/jors.119\n",
      "\n",
      "CPU times: user 948 ms, sys: 144 ms, total: 1.09 s\n",
      "Wall time: 1.11 s\n"
     ]
    }
   ],
   "source": [
    "%%time\n",
    "import warnings\n",
    "warnings.filterwarnings(\"ignore\")\n",
    "\n",
    "from pyart.config import get_field_name\n",
    "from pyart.core import HorizontalWindProfile\n",
    "\n",
    "import tempfile, boto3, glob, netCDF4, pyart\n",
    "import numpy.ma as ma\n",
    "import numpy as np\n",
    "from matplotlib import animation\n",
    "import matplotlib.pyplot as plt\n",
    "%matplotlib inline\n",
    "from IPython.display import Image, display\n",
    "from botocore.handlers import disable_signing\n",
    "from siphon.simplewebservice.wyoming import WyomingUpperAir\n",
    "from datetime import datetime, timedelta\n",
    "from metpy.units import units\n",
    "from metpy.plots import SkewT\n",
    "import metpy.calc as metcalc"
   ]
  },
  {
   "cell_type": "code",
   "execution_count": 2,
   "metadata": {},
   "outputs": [],
   "source": [
    "\"\"\"\n",
    "pyart.retrieve.velocity_azimuth_display\n",
    "=======================================\n",
    "\n",
    "Retrieval of VADs from a radar object.\n",
    "\n",
    ".. autosummary::\n",
    "    :toctreeL generated/\n",
    "    :template: dev_template.rst\n",
    "\n",
    "    velocity_azimuth_display\n",
    "    _interval_mean\n",
    "    _sd_to_uv\n",
    "    _vad_calculation\n",
    "\n",
    "\"\"\"\n",
    "\n",
    "def _interval_mean(data, current_z, wanted_z):\n",
    "    \"\"\" Find the mean of data indexed by current_z\n",
    "        at wanted_z on intervals wanted_z+/- delta\n",
    "        wanted_z. \"\"\"\n",
    "    delta = wanted_z[1] - wanted_z[0]\n",
    "    pos_lower = [np.argsort((current_z - (\n",
    "        wanted_z[i] - delta / 2.0))**2)[0]\n",
    "                 for i in range(len(wanted_z))]\n",
    "    pos_upper = [np.argsort((current_z - (\n",
    "        wanted_z[i] + delta / 2.0))**2)[0]\n",
    "                 for i in range(len(wanted_z))]\n",
    "    mean_values = np.array([data[pos_lower[i]:pos_upper[i]].mean()\n",
    "                            for i in range(len(pos_upper))])\n",
    "    return mean_values\n",
    "\n",
    "\n",
    "def _sd_to_uv(speed, direction):\n",
    "    \"\"\" Takes speed and direction to create u_mean and v_mean. \"\"\"\n",
    "    return (np.sin(direction) * speed), (np.cos(direction) * speed)\n",
    "\n",
    "\n",
    "def _vad_calculation(velocity_field, azimuth, elevation):\n",
    "    \"\"\" Calculates VAD for a scan, returns speed and angle\n",
    "    outdic = vad_algorithm(velocity_field, azimuth, elevation)\n",
    "    velocity_field is a 2D array, azimuth is a 1D array,\n",
    "    elevation is a number. All in degrees, m outdic contains\n",
    "    speed and angle. \"\"\"\n",
    "    nrays, nbins = velocity_field.shape\n",
    "    nrays2 = nrays // 2\n",
    "    velocity_count = np.empty((nrays2, nbins, 2))\n",
    "    velocity_count[:, :, 0] = velocity_field[0:nrays2, :]\n",
    "    velocity_count[:, :, 1] = velocity_field[nrays2:, :]\n",
    "    sinaz = np.sin(np.deg2rad(azimuth))\n",
    "    cosaz = np.cos(np.deg2rad(azimuth))\n",
    "    sumv = np.ma.sum(velocity_count, 2)\n",
    "    vals = np.isnan(sumv)\n",
    "    vals2 = np.vstack((vals, vals))\n",
    "\n",
    "    # Line below needs to be changed to 'is not' expression.\n",
    "    count = np.sum(np.isnan(sumv) == False, 0)\n",
    "\n",
    "    aa = count < 8\n",
    "    vals[:, aa] = 0\n",
    "    vals2[:, aa] = 0\n",
    "    count = np.float64(count)\n",
    "    count[aa] = np.nan\n",
    "    u_m = np.array([np.nansum(sumv, 0) // (2 * count)])\n",
    "    count[aa] = 0\n",
    "\n",
    "    cminusu_mcos = np.zeros((nrays, nbins))\n",
    "    cminusu_msin = np.zeros((nrays, nbins))\n",
    "    sincos = np.zeros((nrays, nbins))\n",
    "    sin2 = np.zeros((nrays, nbins))\n",
    "    cos2 = np.zeros((nrays, nbins))\n",
    "\n",
    "    for i in range(nbins):\n",
    "        cminusu_mcos[:, i] = cosaz * (velocity_field[:, i] - u_m[:, i])\n",
    "        cminusu_msin[:, i] = sinaz * (velocity_field[:, i] - u_m[:, i])\n",
    "        sincos[:, i] = sinaz * cosaz\n",
    "        sin2[:, i] = sinaz**2\n",
    "        cos2[:, i] = cosaz**2\n",
    "\n",
    "    cminusu_mcos[vals2] = np.nan\n",
    "    cminusu_msin[vals2] = np.nan\n",
    "    sincos[vals2] = np.nan\n",
    "    sin2[vals2] = np.nan\n",
    "    cos2[vals2] = np.nan\n",
    "    sumcminu_mcos = np.nansum(cminusu_mcos, 0)\n",
    "    sumcminu_msin = np.nansum(cminusu_msin, 0)\n",
    "    sumsincos = np.nansum(sincos, 0)\n",
    "    sumsin2 = np.nansum(sin2, 0)\n",
    "    sumcos2 = np.nansum(cos2, 0)\n",
    "    b_value = (sumcminu_mcos - (sumsincos*sumcminu_msin / sumsin2)) / (\n",
    "        sumcos2 - (sumsincos**2) / sumsin2)\n",
    "    a_value = (sumcminu_msin - b_value*sumsincos) / sumsin2\n",
    "    speed = np.sqrt(a_value**2 + b_value**2) / np.cos(\n",
    "        np.deg2rad(elevation))\n",
    "    angle = np.arctan2(a_value, b_value)\n",
    "    return speed, angle\n",
    "\n",
    "\n",
    "def velocity_azimuth_display(radar, vel_field=None, z_want=None,\n",
    "                             gatefilter=None):\n",
    "    \"\"\"\n",
    "    Velocity azimuth display.\n",
    "    \n",
    "    Creates a VAD object containing U Wind V Wind and height, that\n",
    "    can then be used to plot and produces the velocity azimuth\n",
    "    display.\n",
    "\n",
    "    Parameters\n",
    "    ----------\n",
    "    radar : Radar\n",
    "        Radar object used.\n",
    "    velocity : string\n",
    "        Velocity field to use for VAD calculation.\n",
    "\n",
    "    Other Parameters\n",
    "    ----------------\n",
    "    z_want : array\n",
    "        Heights for where to sample vads from.\n",
    "        None will result in np.linespace(0, 10000, 100).\n",
    "    gatefilter : GateFilter\n",
    "        A GateFilter indicating radar gates that should be excluded\n",
    "        from the vad calculation.\n",
    "\n",
    "    Returns\n",
    "    -------\n",
    "    height : array\n",
    "        Heights in meters above sea level at which horizontal winds were\n",
    "        sampled.\n",
    "    speed : array\n",
    "        Horizontal wind speed in meters per second at each height.\n",
    "    direction : array\n",
    "        Horizontal wind direction in degrees at each height.\n",
    "    u_wind : array\n",
    "        U-wind mean in meters per second.\n",
    "    v_wind : array\n",
    "        V-wind mean in meters per second.\n",
    "\n",
    "    Reference\n",
    "    ---------\n",
    "    Michelson, D. B., Andersson, T., Koistinen, J., Collier, C. G., Riedl, J.,\n",
    "    Szturc, J., Gjertsen, U., Nielsen, A. and Overgaard, S. (2000) BALTEX Radar\n",
    "    Data Centre Products and their Methodologies. In SMHI Reports. Meteorology\n",
    "    and Climatology. Swedish Meteorological and Hydrological Institute, Norrkoping.\n",
    "\n",
    "    \"\"\"\n",
    "    speeds = []\n",
    "    angles = []\n",
    "    heights = []\n",
    "    z_gate_data = radar.gate_z['data']\n",
    "    if z_want is None:\n",
    "        z_want = np.linspace(0, 1000, 100)\n",
    "\n",
    "    if vel_field is None:\n",
    "        vel_field = get_field_name('velocity')\n",
    "\n",
    "    if gatefilter is not None:\n",
    "        velocities = np.ma.masked_where(\n",
    "            gatefilter.gate_excluded,\n",
    "            radar.fields[vel_field]['data'])\n",
    "    else:\n",
    "        velocities = radar.fields[vel_field]['data']\n",
    "\n",
    "    for i in range(len(radar.sweep_start_ray_index['data'])):\n",
    "        index_start = radar.sweep_start_ray_index['data'][i]\n",
    "        index_end = radar.sweep_end_ray_index['data'][i]\n",
    "        if not (index_end - index_start) % 2 == 0:\n",
    "            index_end = index_end - 1\n",
    "\n",
    "        used_velocities = velocities[index_start:index_end, :]\n",
    "        azimuth = radar.azimuth['data'][index_start:index_end]\n",
    "        elevation = radar.fixed_angle['data'][i]\n",
    "        speed, angle = _vad_calculation(\n",
    "            used_velocities, azimuth, elevation)\n",
    "\n",
    "        print('max height', z_gate_data[index_start, :].max(),\n",
    "              'meters')\n",
    "        speeds.append(speed)\n",
    "        angles.append(angle)\n",
    "        heights.append(z_gate_data[index_start, :])\n",
    "\n",
    "    speed_array = np.concatenate(speeds)\n",
    "    angle_array = np.concatenate(angles)\n",
    "    height_array = np.concatenate(heights)\n",
    "    arg_order = height_array.argsort()\n",
    "    speed_ordered = speed_array[arg_order]\n",
    "    height_ordered = height_array[arg_order]\n",
    "    angle_ordered = angle_array[arg_order]\n",
    "    u_ordered, v_ordered = _sd_to_uv(speed_ordered, angle_ordered)\n",
    "    u_mean = _interval_mean(u_ordered, height_ordered, z_want)\n",
    "    v_mean = _interval_mean(v_ordered, height_ordered, z_want)\n",
    "    vad = HorizontalWindProfile.from_u_and_v(\n",
    "        z_want, u_mean, v_mean)\n",
    "    return vad"
   ]
  },
  {
   "cell_type": "code",
   "execution_count": 3,
   "metadata": {},
   "outputs": [],
   "source": [
    "def nearest(items, pivot):\n",
    "    return min(items, key=lambda x: abs(x - pivot))\n",
    "\n",
    "def get_radar_scan(station, desired_datetime):\n",
    "    '''\n",
    "    Function will pull the latest radar scan from any radar site using \n",
    "    Amazon S3.\n",
    "    ----------\n",
    "    station = Four letter NEXRAD identifier\n",
    "              Example: 'KEPZ'\n",
    "    desired_datetime = datetime string of desired date and time for a radar key\n",
    "              Example: datetime(2018,8,20,0,0,0) \n",
    "    '''\n",
    "    \n",
    "    #creating a bucket and a client to be able to pull data from AWS and setting \n",
    "    #it as unsigned\n",
    "    bucket = 'noaa-nexrad-level2'\n",
    "    s3 = boto3.resource('s3')\n",
    "    s3.meta.client.meta.events.register('choose-signer.s3.*', disable_signing)\n",
    "    \n",
    "    #connects the bucket create above with radar data\n",
    "    aws_radar = s3.Bucket(bucket)\n",
    "    \n",
    "    #setting target string to get the key closest to desired_datetime\n",
    "    target_string = datetime.strftime(desired_datetime, '%Y/%m/%d/'+station)\n",
    "    my_list_of_keys = [this_object.key for this_object in aws_radar.objects.filter(Prefix= target_string)]    \n",
    "    \n",
    "    my_list_of_datetimes = []\n",
    "    for obj in aws_radar.objects.filter(Prefix= target_string):\n",
    "        try:\n",
    "            my_list_of_datetimes.append(datetime.strptime(obj.key[20:35], \n",
    "                                                         '%Y%m%d_%H%M%S'))\n",
    "        except ValueError:\n",
    "            pass \n",
    "    my_nearest = nearest(my_list_of_datetimes, desired_datetime)\n",
    "    keys = my_list_of_keys[my_list_of_datetimes.index(my_nearest)]\n",
    "    print(keys)\n",
    "    return aws_radar, keys"
   ]
  },
  {
   "cell_type": "code",
   "execution_count": 4,
   "metadata": {
    "scrolled": true
   },
   "outputs": [
    {
     "name": "stdout",
     "output_type": "stream",
     "text": [
      "2018/08/21/KDDC/KDDC20180821_000315_V06\n"
     ]
    }
   ],
   "source": [
    "aws_radar, keys = get_radar_scan('KDDC', datetime(2018,8,21,0,0,0))\n",
    "\n",
    "localfile = tempfile.NamedTemporaryFile()\n",
    "aws_radar.download_file(keys, localfile.name)"
   ]
  },
  {
   "cell_type": "code",
   "execution_count": 5,
   "metadata": {},
   "outputs": [],
   "source": [
    "radar = pyart.io.read(localfile.name)\n",
    "#radar_sweep = radar.extract_sweeps([5])\n",
    "#radar = pyart.io.read('/home/zsherman/dev/xsapr_sgp/data/05_19_2017/XSW170519071005.RAW54Z8')"
   ]
  },
  {
   "cell_type": "code",
   "execution_count": 6,
   "metadata": {},
   "outputs": [
    {
     "data": {
      "text/plain": [
       "dict_keys(['spectrum_width', 'differential_reflectivity', 'cross_correlation_ratio', 'differential_phase', 'reflectivity', 'velocity'])"
      ]
     },
     "execution_count": 6,
     "metadata": {},
     "output_type": "execute_result"
    }
   ],
   "source": [
    "radar.fields.keys()"
   ]
  },
  {
   "cell_type": "code",
   "execution_count": null,
   "metadata": {},
   "outputs": [],
   "source": [
    "gatefilter = pyart.correct.GateFilter(radar)\n",
    "#gatefilter.exclude_below('reflectivity', 5)\n",
    "gatefilter.exclude_invalid('velocity')"
   ]
  },
  {
   "cell_type": "code",
   "execution_count": null,
   "metadata": {},
   "outputs": [],
   "source": [
    "radar.instrument_parameters['nyquist_velocity']['data'].mean()"
   ]
  },
  {
   "cell_type": "code",
   "execution_count": null,
   "metadata": {},
   "outputs": [],
   "source": [
    "corr_vel = pyart.correct.dealias_region_based(\n",
    "    radar, vel_field='velocity', keep_original=False, \n",
    "    gatefilter=gatefilter, centered=True)\n",
    "radar.add_field('corrected_velocity', corr_vel, replace_existing = True)"
   ]
  },
  {
   "cell_type": "code",
   "execution_count": 7,
   "metadata": {},
   "outputs": [
    {
     "name": "stdout",
     "output_type": "stream",
     "text": [
      "max height 16290.0 meters\n",
      "max height 16312.0 meters\n",
      "max height 19743.0 meters\n",
      "max height 19480.0 meters\n",
      "max height 16268.0 meters\n",
      "max height 16312.0 meters\n",
      "max height 23085.0 meters\n",
      "max height 22997.0 meters\n",
      "max height 27391.0 meters\n",
      "max height 30773.0 meters\n",
      "max height 36147.0 meters\n",
      "max height 43681.0 meters\n",
      "max height 52423.0 meters\n",
      "max height 62338.0 meters\n"
     ]
    }
   ],
   "source": [
    "vad = pyart.retrieve.velocity_azimuth_display(radar, 'velocity', z_want=np.linspace(790, 32898, 111))"
   ]
  },
  {
   "cell_type": "markdown",
   "metadata": {
    "scrolled": true
   },
   "source": [
    "vad = velocity_azimuth_display(\n",
    "        radar, 'velocity', z_want=np.linspace(50, 10766, 101), \n",
    "        gatefilter=gatefilter)"
   ]
  },
  {
   "cell_type": "code",
   "execution_count": null,
   "metadata": {
    "scrolled": true
   },
   "outputs": [],
   "source": [
    "dir(vad)"
   ]
  },
  {
   "cell_type": "code",
   "execution_count": 8,
   "metadata": {},
   "outputs": [],
   "source": [
    "dataset = WyomingUpperAir.request_data(datetime(2018,8,21,0), 'DDC')"
   ]
  },
  {
   "cell_type": "code",
   "execution_count": 9,
   "metadata": {},
   "outputs": [],
   "source": [
    "h = dataset['height'].values * units(dataset.units['height'])\n",
    "p = dataset['pressure'].values * units(dataset.units['pressure'])\n",
    "T = dataset['temperature'].values * units(dataset.units['temperature'])\n",
    "Td = dataset['dewpoint'].values * units(dataset.units['dewpoint'])\n",
    "u = dataset['u_wind'].values * units(dataset.units['u_wind'])\n",
    "v = dataset['v_wind'].values * units(dataset.units['v_wind'])"
   ]
  },
  {
   "cell_type": "code",
   "execution_count": 10,
   "metadata": {},
   "outputs": [
    {
     "name": "stdout",
     "output_type": "stream",
     "text": [
      "(111,)\n",
      "(111,)\n"
     ]
    }
   ],
   "source": [
    "print(h.shape)\n",
    "print(vad.height.shape)"
   ]
  },
  {
   "cell_type": "code",
   "execution_count": 11,
   "metadata": {},
   "outputs": [
    {
     "data": {
      "image/png": "[encoded data removed]",
      "text/plain": [
       "<Figure size 432x288 with 1 Axes>"
      ]
     },
     "metadata": {},
     "output_type": "display_data"
    },
    {
     "data": {
      "image/png": "[encoded data removed]",
      "text/plain": [
       "<Figure size 432x288 with 1 Axes>"
      ]
     },
     "metadata": {},
     "output_type": "display_data"
    },
    {
     "data": {
      "image/png": "[encoded data removed]",
      "text/plain": [
       "<Figure size 432x288 with 1 Axes>"
      ]
     },
     "metadata": {},
     "output_type": "display_data"
    }
   ],
   "source": [
    "fig = plt.figure()\n",
    "plt.plot(u*0.514444, h/1000, '-b', label='u_wind')\n",
    "plt.plot(v*0.514444, h/1000, '-r', label='v_wind')\n",
    "plt.legend(bbox_to_anchor=(1.05, 1), loc=2, borderaxespad=0.)\n",
    "#plt.xlim(-10,20)\n",
    "#plt.ylim(0,15)\n",
    "plt.xlabel('m/s')\n",
    "plt.ylabel('Km')\n",
    "plt.title('Sounding U and V')\n",
    "plt.show()\n",
    "\n",
    "fig = plt.figure()\n",
    "plt.plot(vad.u_wind, vad.height/1000, 'b-', label='U Wind')\n",
    "plt.plot(vad.v_wind, vad.height/1000, 'r-', label='V Wind')\n",
    "#plt.xlim(-10, 10)\n",
    "#plt.ylim(0, 15)\n",
    "plt.xlabel('m/s')\n",
    "plt.ylabel('Km')\n",
    "plt.title('VAD U and V')\n",
    "plt.legend(bbox_to_anchor=(1.05, 1), loc=2, borderaxespad=0.)\n",
    "plt.show()\n",
    "\n",
    "fig = plt.figure()\n",
    "plt.plot(vad.speed, vad.height/1000, 'b-', label='VAD speed')\n",
    "plt.plot(dataset['speed']*0.514444, dataset['height']/1000, 'r-', label='Sounding Speed')\n",
    "#plt.xlim(-10, 10)\n",
    "#plt.ylim(0, 15)\n",
    "plt.xlabel('m/s')\n",
    "plt.ylabel('Km')\n",
    "plt.title('VAD vs Sounding Wind Speed')\n",
    "plt.legend(bbox_to_anchor=(1.05, 1), loc=2, borderaxespad=0.)\n",
    "plt.show()"
   ]
  },
  {
   "cell_type": "code",
   "execution_count": null,
   "metadata": {},
   "outputs": [],
   "source": [
    "dataset.units"
   ]
  },
  {
   "cell_type": "code",
   "execution_count": null,
   "metadata": {},
   "outputs": [],
   "source": [
    "\"\"\" Unit Tests for Py-ART's retrieve/vad.py module. \"\"\"\n",
    "from numpy.testing import assert_almost_equal"
   ]
  },
  {
   "cell_type": "code",
   "execution_count": null,
   "metadata": {},
   "outputs": [],
   "source": [
    "def test_velocity_azimuth_display():\n",
    "    test_radar = pyart.testing.make_target_radar()\n",
    "    height = np.arange(0, 1000, 200)\n",
    "    speed = np.ones_like(height) * 5\n",
    "    direction = np.array([0, 90, 180, 270, 45])\n",
    "    profile = pyart.core.HorizontalWindProfile(height, speed, direction)\n",
    "    sim_vel = pyart.util.simulated_vel_from_profile(test_radar, profile)\n",
    "    test_radar.add_field('velocity', sim_vel,\n",
    "                         replace_existing=True)\n",
    "\n",
    "    velocity = 'velocity'\n",
    "    z_want = np.linspace(0, 10, 5)\n",
    "\n",
    "    vad_height = ([0., 2.5, 5., 7.5, 10.])\n",
    "    vad_speed = ([4.98634593, 4.93978918, 4.88051406, \n",
    "                  4.81868498, 4.75765562])\n",
    "    vad_direction = ([90.02444907, 90.56749781, 91.28185396, \n",
    "                      92.0561715, 92.85184062])\n",
    "    u_wind = ([-4.98634547, -4.93954688, -4.87929269,\n",
    "               -4.81558238, -4.75176341])\n",
    "    v_wind = ([0.00212776, 0.04892636, 0.10918054,\n",
    "               0.17289085, 0.23670982])\n",
    "\n",
    "    vad = velocity_azimuth_display(\n",
    "        test_radar, velocity, z_want)\n",
    "\n",
    "    assert_almost_equal(vad.height, vad_height, 3)\n",
    "    assert_almost_equal(vad.speed, vad_speed, 3)\n",
    "    assert_almost_equal(vad.direction, vad_direction, 3)\n",
    "    assert_almost_equal(vad.u_wind, u_wind, 3)\n",
    "    assert_almost_equal(vad.v_wind, v_wind, 3)"
   ]
  },
  {
   "cell_type": "code",
   "execution_count": null,
   "metadata": {},
   "outputs": [],
   "source": [
    "test_velocity_azimuth_display()"
   ]
  },
  {
   "cell_type": "code",
   "execution_count": null,
   "metadata": {},
   "outputs": [],
   "source": [
    "test_radar = pyart.testing.make_target_radar()\n",
    "height = np.arange(0, 1000, 200)\n",
    "speed = np.ones_like(height) * 5\n",
    "direction = np.array([0, 90, 180, 270, 45])\n",
    "profile = pyart.core.HorizontalWindProfile(height, speed, direction)\n",
    "sim_vel = pyart.util.simulated_vel_from_profile(test_radar, profile)\n",
    "test_radar.add_field('velocity', sim_vel,\n",
    "                     replace_existing=True)\n",
    "\n",
    "velocity = 'velocity'\n",
    "z_want = np.linspace(0, 10, 5)\n",
    "\n",
    "vad = velocity_azimuth_display(\n",
    "    test_radar, velocity, z_want)\n",
    "print(vad.height)"
   ]
  },
  {
   "cell_type": "code",
   "execution_count": null,
   "metadata": {},
   "outputs": [],
   "source": []
  }
 ],
 "metadata": {
  "anaconda-cloud": {},
  "kernelspec": {
   "display_name": "Python 3",
   "language": "python",
   "name": "python3"
  },
  "language_info": {
   "codemirror_mode": {
    "name": "ipython",
    "version": 3
   },
   "file_extension": ".py",
   "mimetype": "text/x-python",
   "name": "python",
   "nbconvert_exporter": "python",
   "pygments_lexer": "ipython3",
   "version": "3.6.6"
  }
 },
 "nbformat": 4,
 "nbformat_minor": 1
}
